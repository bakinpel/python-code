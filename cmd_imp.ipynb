{
 "cells": [
  {
   "cell_type": "markdown",
   "metadata": {},
   "source": [
    "## **Important Commands**\n",
    "\n",
    "### Creating Virtual Environment\n",
    "1. python -m venv [environ name]\n",
    "2. pip install virtualenv\n",
    "   - virtualenv -p [python version] \n",
    "3. conda create -p [environ name]  [python version]\n",
    "\n",
    "### Setting up the environment\n",
    "1. Install ipykernel\n",
    "2\n"
   ]
  },
  {
   "cell_type": "markdown",
   "metadata": {},
   "source": [
    "How to run requiment.txt\n",
    "\n",
    "pip install -r [name of file with packages]"
   ]
  },
  {
   "cell_type": "markdown",
   "metadata": {},
   "source": [
    "How to store all the previously installed packages and their versions\n",
    "\n",
    "pip freeze > [filename]\n"
   ]
  }
 ],
 "metadata": {
  "kernelspec": {
   "display_name": ".venv",
   "language": "python",
   "name": "python3"
  },
  "language_info": {
   "codemirror_mode": {
    "name": "ipython",
    "version": 3
   },
   "file_extension": ".py",
   "mimetype": "text/x-python",
   "name": "python",
   "nbconvert_exporter": "python",
   "pygments_lexer": "ipython3",
   "version": "3.13.5"
  }
 },
 "nbformat": 4,
 "nbformat_minor": 2
}
