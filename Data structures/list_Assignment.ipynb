{
 "cells": [
  {
   "cell_type": "markdown",
   "id": "190b85a4",
   "metadata": {},
   "source": [
    "# Module 3: Data Structures Assignments\n",
    "## Lesson 3.1: Lists\n",
    "### Assignment 1: Creating and Accessing Lists\n",
    "\n",
    "Create a list of the first 20 positive integers. Print the list."
   ]
  },
  {
   "cell_type": "code",
   "execution_count": 85,
   "id": "d585c557",
   "metadata": {},
   "outputs": [
    {
     "name": "stdout",
     "output_type": "stream",
     "text": [
      "[1, 2, 3, 4, 5, 6, 7, 8, 9, 10, 11, 12, 13, 14, 15, 16, 17, 18, 19, 20]\n"
     ]
    }
   ],
   "source": [
    "A = [x for x in range(1, 21)]\n",
    "print(A)"
   ]
  },
  {
   "cell_type": "markdown",
   "id": "3c93efc0",
   "metadata": {},
   "source": [
    "### Assignment 2: Accessing List Elements\n",
    "\n",
    "Print the first, middle, and last elements of the list created in Assignment 1.\n"
   ]
  },
  {
   "cell_type": "code",
   "execution_count": 86,
   "id": "e0b5da65",
   "metadata": {},
   "outputs": [
    {
     "name": "stdout",
     "output_type": "stream",
     "text": [
      "1\n",
      "10\n",
      "20\n"
     ]
    }
   ],
   "source": [
    "print(A[0])\n",
    "print(len(A)//2)\n",
    "print(A[-1])"
   ]
  },
  {
   "cell_type": "markdown",
   "id": "0c4c8572",
   "metadata": {},
   "source": [
    "### Assignment 3: List Slicing\n",
    "\n",
    "Print the first five elements, the last five elements, and the elements from index 5 to 15 of the list created in Assignment 1.\n",
    "\n"
   ]
  },
  {
   "cell_type": "code",
   "execution_count": 87,
   "id": "c8bfa3f9",
   "metadata": {},
   "outputs": [
    {
     "name": "stdout",
     "output_type": "stream",
     "text": [
      "[1, 2, 3, 4, 5]\n",
      "[16, 17, 18, 19, 20]\n",
      "[6, 7, 8, 9, 10, 11, 12, 13, 14, 15]\n"
     ]
    }
   ],
   "source": [
    "print(A[:5])\n",
    "print(A[-5:])\n",
    "print(A[5:15])"
   ]
  },
  {
   "cell_type": "markdown",
   "id": "d48e64d3",
   "metadata": {},
   "source": [
    "### Assignment 4: List Comprehensions\n",
    "\n",
    "Create a new list containing the squares of the first 10 positive integers using a list comprehension. Print the new list.\n",
    "\n"
   ]
  },
  {
   "cell_type": "code",
   "execution_count": 88,
   "id": "2ca7de80",
   "metadata": {},
   "outputs": [
    {
     "name": "stdout",
     "output_type": "stream",
     "text": [
      "[1, 4, 9, 16, 25, 36, 49, 64, 81, 100]\n"
     ]
    }
   ],
   "source": [
    "B= [x**2 for x in range(1, 11)]\n",
    "print(B)"
   ]
  },
  {
   "cell_type": "markdown",
   "id": "ad217011",
   "metadata": {},
   "source": [
    "### Assignment 5: Filtering Lists\n",
    "\n",
    "Create a new list containing only the even numbers from the list created in Assignment 1 using a list comprehension. Print the new list.\n",
    "\n"
   ]
  },
  {
   "cell_type": "code",
   "execution_count": 89,
   "id": "e8d897ee",
   "metadata": {},
   "outputs": [
    {
     "name": "stdout",
     "output_type": "stream",
     "text": [
      "[2, 4, 6, 8, 10, 12, 14, 16, 18, 20]\n"
     ]
    }
   ],
   "source": [
    "C = [x for x in A if x%2==0] \n",
    "print (C)"
   ]
  },
  {
   "cell_type": "markdown",
   "id": "6617aa00",
   "metadata": {},
   "source": [
    "### Assignment 6: List Methods\n",
    "\n",
    "Create a list of random numbers and sort it in ascending and descending order. Remove the duplicates from the list and print the modified list.\n",
    "\n"
   ]
  },
  {
   "cell_type": "code",
   "execution_count": 3,
   "id": "25c41f6e",
   "metadata": {},
   "outputs": [
    {
     "name": "stdout",
     "output_type": "stream",
     "text": [
      "[12, 4, 13, 14, 1, 17, 7, 0, 16, 17, 17]\n",
      "Descending order of list D: [17, 17, 17, 16, 14, 13, 12, 7, 4, 1, 0]\n",
      "Ascending order of list D: [0, 1, 4, 7, 12, 13, 14, 16, 17, 17, 17]\n"
     ]
    }
   ],
   "source": [
    "import random\n",
    "D=[random.randrange(20) for x in range(11)]\n",
    "print(D)\n",
    "D.sort(reverse=True)\n",
    "print(\"Descending order of list D:\", D)\n",
    "descend = D.sort()\n",
    "print(\"Ascending order of list D:\", D)\n"
   ]
  },
  {
   "cell_type": "markdown",
   "id": "54912216",
   "metadata": {},
   "source": [
    "### Assignment 7: Nested Lists\n",
    "\n",
    "Create a nested list representing a 3x3 matrix and print the matrix. Access and print the element at the second row and third column.\n",
    "\n"
   ]
  },
  {
   "cell_type": "code",
   "execution_count": 91,
   "id": "1cfe32ba",
   "metadata": {},
   "outputs": [
    {
     "data": {
      "text/plain": [
       "10"
      ]
     },
     "execution_count": 91,
     "metadata": {},
     "output_type": "execute_result"
    }
   ],
   "source": [
    "E = [[random.randrange(19) for _ in range(3)] for _ in range(3)]\n",
    "E[1][2]"
   ]
  },
  {
   "cell_type": "markdown",
   "id": "d674925f",
   "metadata": {},
   "source": [
    "### Assignment 8: List of Dictionaries\n",
    "\n",
    "Create a list of dictionaries where each dictionary represents a student with keys 'name' and 'score'. Sort the list of dictionaries by the 'score' in descending order and print the sorted list.\n",
    "\n"
   ]
  },
  {
   "cell_type": "code",
   "execution_count": 1,
   "id": "7aa6f623",
   "metadata": {},
   "outputs": [
    {
     "name": "stdout",
     "output_type": "stream",
     "text": [
      "[{'name': 'Charlie', 'score': 95}, {'name': 'Alice', 'score': 88}, {'name': 'Eve', 'score': 78}, {'name': 'Bob', 'score': 72}, {'name': 'David', 'score': 65}]\n"
     ]
    }
   ],
   "source": [
    "students = [\n",
    "    {'name': 'Alice', 'score': 88},\n",
    "    {'name': 'Bob', 'score': 72},\n",
    "    {'name': 'Charlie', 'score': 95},\n",
    "    {'name': 'David', 'score': 65},\n",
    "    {'name': 'Eve', 'score': 78}\n",
    "]\n",
    "\n",
    "sorted_scores = sorted(students, key= lambda x:x[\"score\"], reverse=True)\n",
    "\n",
    "print(sorted_scores)\n"
   ]
  },
  {
   "cell_type": "markdown",
   "id": "6fb27b21",
   "metadata": {},
   "source": [
    "### Assignment 9: Matrix Transposition\n",
    "\n",
    "Write a function that takes a 3x3 matrix (nested list) as input and returns its transpose. Print the original and transposed matrices.\n",
    "\n"
   ]
  },
  {
   "cell_type": "code",
   "execution_count": null,
   "id": "26606a6e",
   "metadata": {},
   "outputs": [
    {
     "data": {
      "text/plain": [
       "[[], [], []]"
      ]
     },
     "execution_count": 9,
     "metadata": {},
     "output_type": "execute_result"
    }
   ],
   "source": [
    "E = [[random.randrange(19) for _ in range(3)] for _ in range(3)]\n",
    "list = []\n",
    "for i in range(3):\n",
    "    list.append([])\n",
    "\n"
   ]
  },
  {
   "cell_type": "code",
   "execution_count": 20,
   "id": "09885903",
   "metadata": {},
   "outputs": [
    {
     "name": "stdout",
     "output_type": "stream",
     "text": [
      "[[17, 18, 5], [2, 9, 6], [5, 14, 4]]\n",
      "[[17, 2, 5], [18, 9, 14], [5, 6, 4]]\n"
     ]
    }
   ],
   "source": [
    "def matrix_transpose(a):\n",
    "    col, row = len(a), len(a)\n",
    "\n",
    "    list = [[0 for _ in range(col)] for _ in range(row)]\n",
    "    for j in range(col):\n",
    "        for k in range(row):\n",
    "            list[j][k] = a[k][j]\n",
    "    return list\n",
    "        \n",
    "E = [[random.randrange(19) for _ in range(3)] for _ in range(3)]\n",
    "print(E)\n",
    "new_list = matrix_transpose(E)\n",
    "print(new_list)"
   ]
  },
  {
   "cell_type": "markdown",
   "id": "ae17d2d2",
   "metadata": {},
   "source": [
    "### Assignment 10: Flattening a Nested List\n",
    "\n",
    "Write a function that takes a nested list and flattens it into a single list. Print the original and flattened lists.\n",
    "\n"
   ]
  },
  {
   "cell_type": "code",
   "execution_count": null,
   "id": "13954b5d",
   "metadata": {},
   "outputs": [
    {
     "name": "stdout",
     "output_type": "stream",
     "text": [
      "[1, 2, 'hi', 0, 7, 6]\n"
     ]
    }
   ],
   "source": [
    "def flatten_list (a=[[], []]):\n",
    "    b=a[0]+a[1]\n",
    "    return b\n",
    "x = flatten_list([[1, 2, \"hi\"], [0, 7, 6]])\n",
    "print(x)"
   ]
  },
  {
   "cell_type": "markdown",
   "id": "b8921932",
   "metadata": {},
   "source": [
    "### Assignment 11: List Manipulation\n",
    "\n",
    "Create a list of the first 10 positive integers. Remove the elements at indices 2, 4, and 6, and insert the element '99' at index 5. Print the modified list.\n",
    "\n"
   ]
  },
  {
   "cell_type": "code",
   "execution_count": null,
   "id": "69d88af6",
   "metadata": {},
   "outputs": [
    {
     "name": "stdout",
     "output_type": "stream",
     "text": [
      "[1, 2, 3, 4, 5, 6, 7, 8, 9, 10]\n",
      "[1, 3, 5, 7, 8, 99, 9, 10]\n"
     ]
    }
   ],
   "source": [
    "k = [i for i in range(1, 11)]\n",
    "print(k)\n",
    "k.remove(2)\n",
    "k.remove(4)\n",
    "k.remove(6)\n",
    "k.insert(5, 99)\n",
    "print(k)"
   ]
  },
  {
   "cell_type": "markdown",
   "id": "db1fc4eb",
   "metadata": {},
   "source": [
    "### Assignment 12: List Zipping\n",
    "\n",
    "Create two lists of the same length. Use the `zip` function to combine these lists into a list of tuples and print the result.\n",
    "\n"
   ]
  },
  {
   "cell_type": "code",
   "execution_count": null,
   "id": "1dbdc5bd",
   "metadata": {},
   "outputs": [
    {
     "name": "stdout",
     "output_type": "stream",
     "text": [
      "[('hello', 2), (1.5, 'hey'), ('boy', 'girl')]\n"
     ]
    }
   ],
   "source": [
    "a = [\"hello\", 1.5, \"boy\"]\n",
    "b =[2, \"hey\", \"girl\"]\n",
    "\n",
    "z =list(zip(a, b))\n",
    "print(z)"
   ]
  },
  {
   "cell_type": "markdown",
   "id": "23c7763c",
   "metadata": {},
   "source": [
    "### Assignment 13: List Reversal\n",
    "\n",
    "Write a function that takes a list and returns a new list with the elements in reverse order. Print the original and reversed lists.\n",
    "\n"
   ]
  },
  {
   "cell_type": "code",
   "execution_count": null,
   "id": "0f03d809",
   "metadata": {},
   "outputs": [
    {
     "name": "stdout",
     "output_type": "stream",
     "text": [
      "[-1, 0, 9, 7]\n"
     ]
    }
   ],
   "source": [
    "def revers_list(a=[]):\n",
    "    return a[::-1]\n",
    "b = revers_list([7, 9, 0, -1])\n",
    "print(b)\n"
   ]
  },
  {
   "cell_type": "markdown",
   "id": "f12cc4e6",
   "metadata": {},
   "source": [
    "### Assignment 14: List Rotation\n",
    "\n",
    "Write a function that rotates a list by n positions. Print the original and rotated lists.\n",
    "\n"
   ]
  },
  {
   "cell_type": "code",
   "execution_count": 21,
   "id": "f11cd987",
   "metadata": {},
   "outputs": [
    {
     "name": "stdout",
     "output_type": "stream",
     "text": [
      "Original list: [1, 2, 3, 4, 5]\n",
      "Rotated list: [3, 4, 5, 1, 2]\n"
     ]
    }
   ],
   "source": [
    "def rotate_list(lst, n):\n",
    "    return lst[n:] + lst[:n]\n",
    "\n",
    "original_list = [1, 2, 3, 4, 5]\n",
    "rotated_list = rotate_list(original_list, 2)\n",
    "print(f\"Original list: {original_list}\")\n",
    "print(f\"Rotated list: {rotated_list}\")"
   ]
  },
  {
   "cell_type": "markdown",
   "id": "1d076d8c",
   "metadata": {},
   "source": [
    "### Assignment 15: List Intersection\n",
    "\n",
    "Write a function that takes two lists and returns a new list containing only the elements that are present in both lists. Print the intersected list."
   ]
  },
  {
   "cell_type": "code",
   "execution_count": null,
   "id": "f52df34b",
   "metadata": {},
   "outputs": [
    {
     "name": "stdout",
     "output_type": "stream",
     "text": [
      "[1, 2, 5]\n"
     ]
    }
   ],
   "source": [
    "def compute_intersect(a=[], b=[]):\n",
    "    #c=[]\n",
    "    c= [i for i in a if i in b]\n",
    "    return c\n",
    "\n",
    "c = compute_intersect([1, 2, 3, 4, 5], [5, 2, 1, 9, 10])\n",
    "print(c)"
   ]
  }
 ],
 "metadata": {
  "kernelspec": {
   "display_name": ".venv",
   "language": "python",
   "name": "python3"
  },
  "language_info": {
   "codemirror_mode": {
    "name": "ipython",
    "version": 3
   },
   "file_extension": ".py",
   "mimetype": "text/x-python",
   "name": "python",
   "nbconvert_exporter": "python",
   "pygments_lexer": "ipython3",
   "version": "3.13.5"
  }
 },
 "nbformat": 4,
 "nbformat_minor": 5
}
