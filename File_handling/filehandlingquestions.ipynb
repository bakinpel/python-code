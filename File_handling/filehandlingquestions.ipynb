{
 "cells": [
  {
   "cell_type": "markdown",
   "metadata": {},
   "source": [
    "# Module: File Handling Assignments\n",
    "## Lesson: File Handling and Operations\n",
    "### Assignment 1: Reading a File\n",
    "\n",
    "Write a function that reads the contents of a file named `sample.txt` and prints each line."
   ]
  },
  {
   "cell_type": "code",
   "execution_count": 5,
   "id": "0ab8ff1c",
   "metadata": {},
   "outputs": [
    {
     "name": "stdout",
     "output_type": "stream",
     "text": [
      "Hello, My name is Toba\n",
      "How are you doing today?\n",
      "It's an amazing day for you.\n"
     ]
    }
   ],
   "source": [
    "def read_file (file):\n",
    "    with open (file, 'r') as f:\n",
    "        for line in f:\n",
    "            print(line.strip())\n",
    "\n",
    "read_file('sample.txt')"
   ]
  },
  {
   "cell_type": "markdown",
   "id": "dadd84fd",
   "metadata": {},
   "source": [
    "### Assignment 2: Writing to a File\n",
    "\n",
    "Write a function that writes a list of strings to a file named `output.txt`, with each string on a new line."
   ]
  },
  {
   "cell_type": "code",
   "execution_count": 8,
   "id": "f16f3a2b",
   "metadata": {},
   "outputs": [],
   "source": [
    "def write_to_file(filename, list_of_string):\n",
    "    with open(filename, 'w') as file:\n",
    "        for i,string in enumerate(list_of_string):\n",
    "            if len(list_of_string) == i:\n",
    "                file.write(f\"{string}\")\n",
    "            else:\n",
    "                file.write(f\"{string}\\n\")\n",
    "\n",
    "write_to_file(\"output.txt\", ['Hello, My name is Toba', 'How are you doing today?', 'It\\'s an amazing day for you.'])"
   ]
  },
  {
   "cell_type": "markdown",
   "id": "2bc9661d",
   "metadata": {},
   "source": [
    "\n",
    "### Assignment 3: Copying a File\n",
    "\n",
    "Write a function that copies the contents of a file named `source.txt` to a new file named `destination.txt`."
   ]
  },
  {
   "cell_type": "code",
   "execution_count": 9,
   "id": "c8adc335",
   "metadata": {},
   "outputs": [],
   "source": [
    "def copy_file (file1, file2):\n",
    "    with open (file1, 'r') as f:\n",
    "        content = f.read()\n",
    "    with open (file2, 'w') as f:\n",
    "        f.write(content)\n",
    "\n",
    "copy_file('source.txt', 'destination.txt')"
   ]
  },
  {
   "cell_type": "markdown",
   "id": "26cf6207",
   "metadata": {},
   "source": [
    "### Assignment 4: Appending to a File\n",
    "\n",
    "Write a function that appends a given string to the end of a file named `log.txt`."
   ]
  },
  {
   "cell_type": "code",
   "execution_count": 11,
   "id": "7bec971c",
   "metadata": {},
   "outputs": [],
   "source": [
    "def append_to_file (file1, content):\n",
    "    with open (file1, 'a') as f:\n",
    "        f.write(content)\n",
    "\n",
    "append_to_file('log.txt', '\\nHey \\nHi \\nHello')"
   ]
  },
  {
   "cell_type": "markdown",
   "id": "58182290",
   "metadata": {},
   "source": [
    "### Assignment 5: Counting Words in a File\n",
    "\n",
    "Write a function that reads the contents of a file named `document.txt` and returns the number of words in the file."
   ]
  },
  {
   "cell_type": "code",
   "execution_count": 17,
   "id": "8f985d36",
   "metadata": {},
   "outputs": [
    {
     "data": {
      "text/plain": [
       "16"
      ]
     },
     "execution_count": 17,
     "metadata": {},
     "output_type": "execute_result"
    }
   ],
   "source": [
    "def count_word (filename):\n",
    "    word_count = 0\n",
    "    with open (filename, 'r') as file:\n",
    "        for line in file:\n",
    "           word_count += len(line.split())\n",
    "    return word_count\n",
    "\n",
    "count_word('document.txt')"
   ]
  },
  {
   "cell_type": "markdown",
   "id": "5ee488dd",
   "metadata": {},
   "source": [
    "### Assignment 6: Finding and Replacing Text\n",
    "\n",
    "Write a function that finds and replaces all occurrences of a given word in a file named `data.txt` with another word."
   ]
  },
  {
   "cell_type": "code",
   "execution_count": 26,
   "id": "a59a303f",
   "metadata": {},
   "outputs": [],
   "source": [
    "def replace_word (filename, old, new):\n",
    "    with open (filename, 'r') as f:\n",
    "        content = f.read()\n",
    "        new_content= content.replace(old, new)\n",
    "    with open (filename, 'w') as f:\n",
    "        f.write(new_content)\n",
    "\n",
    "replace_word('data.txt', 'is', 'was')"
   ]
  },
  {
   "cell_type": "markdown",
   "id": "008e9359",
   "metadata": {},
   "source": [
    "### Assignment 7: Reading a File in Reverse\n",
    "\n",
    "Write a function that reads the contents of a file named `reverse.txt` and prints each line in reverse order."
   ]
  },
  {
   "cell_type": "code",
   "execution_count": 32,
   "id": "60e172e6",
   "metadata": {},
   "outputs": [
    {
     "name": "stdout",
     "output_type": "stream",
     "text": [
      "noleM\n",
      "ebyaM\n",
      "evarB\n",
      "yeH\n",
      "iH\n",
      "olleH\n"
     ]
    }
   ],
   "source": [
    "def reverse_text (filename):\n",
    "    with open (filename, 'r') as f:\n",
    "        for line in f:\n",
    "            print(line.strip()[::-1])\n",
    "\n",
    "reverse_text('log.txt')"
   ]
  },
  {
   "cell_type": "markdown",
   "id": "10ddf8d2",
   "metadata": {},
   "source": [
    "\n",
    "### Assignment 8: Counting Lines, Words, and Characters\n",
    "\n",
    "Write a function that reads the contents of a file named `stats.txt` and returns the number of lines, words, and characters in the file."
   ]
  },
  {
   "cell_type": "code",
   "execution_count": 41,
   "id": "9fa2407b",
   "metadata": {},
   "outputs": [
    {
     "data": {
      "text/plain": [
       "(3, 16, 61)"
      ]
     },
     "execution_count": 41,
     "metadata": {},
     "output_type": "execute_result"
    }
   ],
   "source": [
    "def count_all (filename):\n",
    "    line_count = 0\n",
    "    word_count = 0\n",
    "    char_count = 0\n",
    "    with open (filename, 'r') as file:\n",
    "        for line in file:\n",
    "           line_count +=1 \n",
    "           word_count += len(line.split())\n",
    "           char_count += len([c for char in line.split() for c in char])\n",
    "    return line_count, word_count, char_count\n",
    "\n",
    "count_all('document.txt')"
   ]
  },
  {
   "cell_type": "markdown",
   "id": "8d63f79b",
   "metadata": {},
   "source": [
    "\n",
    "### Assignment 9: Merging Multiple Files\n",
    "\n",
    "Write a function that merges the contents of multiple files into a single file named `merged.txt`."
   ]
  },
  {
   "cell_type": "code",
   "execution_count": null,
   "id": "afd6c7c5",
   "metadata": {},
   "outputs": [],
   "source": [
    "with open ([file1, file2, file3] 'r') as f, ff, fff:"
   ]
  },
  {
   "cell_type": "code",
   "execution_count": null,
   "id": "e055064a",
   "metadata": {},
   "outputs": [],
   "source": [
    "def copy_file (file1, file2, file3):\n",
    "    with open (file1, 'r') as f:\n",
    "        content1 = f.read()\n",
    "    with open (file2, 'w') as f:\n",
    "        f.write(content1)\n",
    "\n",
    "copy_file('source.txt', 'destination.txt')"
   ]
  },
  {
   "cell_type": "markdown",
   "id": "ae1bade1",
   "metadata": {},
   "source": [
    "### Assignment 10: Splitting a Large File\n",
    "\n",
    "Write a function that splits a large file named `large.txt` into smaller files of 100 lines each."
   ]
  },
  {
   "cell_type": "code",
   "execution_count": 44,
   "id": "4bce4861",
   "metadata": {},
   "outputs": [],
   "source": [
    "def split_large_file(file, file_size):\n",
    "    count = 0\n",
    "    with open(file, 'r') as f:\n",
    "       content = f.readlines()\n",
    "       for i in range(0, len(content), file_size):\n",
    "            count += 1\n",
    "            filename = 'small_file'+ str(count) +'.txt'\n",
    "            with open(filename, 'w') as ff:\n",
    "                if i + file_size < len(content):\n",
    "                    ff.writelines(content[i:file_size+i])\n",
    "                else:\n",
    "                    ff.writelines(content[i:])\n",
    "\n",
    "split_large_file('large.txt', 100)\n"
   ]
  },
  {
   "cell_type": "markdown",
   "id": "1bcd6d6e",
   "metadata": {},
   "source": [
    "\n",
    "### Assignment 11: Creating a Log File\n",
    "\n",
    "Write a function that creates a log file named `activity.log` and writes log messages with timestamps."
   ]
  },
  {
   "cell_type": "code",
   "execution_count": 51,
   "id": "c75caf10",
   "metadata": {},
   "outputs": [],
   "source": [
    "from datetime import datetime as dt\n",
    "\n",
    "def write_log(filename, message):\n",
    "    with open(filename, 'w') as file:\n",
    "        formatted_message = str(dt.now()) + ' - ' + message\n",
    "        file.write(formatted_message)\n",
    "\n",
    "write_log('activity.txt', 'The process has already began, so I will inform you as I progress')"
   ]
  },
  {
   "cell_type": "markdown",
   "id": "19f77afb",
   "metadata": {},
   "source": [
    "\n",
    "### Assignment 12: Binary File Operations\n",
    "\n",
    "Write a function that reads a binary file named `image.bin` and writes its contents to another binary file named `copy_image.bin`."
   ]
  },
  {
   "cell_type": "code",
   "execution_count": 52,
   "id": "589a4395",
   "metadata": {},
   "outputs": [
    {
     "name": "stdout",
     "output_type": "stream",
     "text": [
      "b'BMF\\x00\\x10 0\\xff'\n"
     ]
    }
   ],
   "source": [
    "binary_content = bytes([0x42, 0x4D, 0x46, 0x00, 0x10, 0x20, 0x30, 0xFF])\n",
    "print(binary_content)"
   ]
  },
  {
   "cell_type": "code",
   "execution_count": 53,
   "id": "24d6046b",
   "metadata": {},
   "outputs": [],
   "source": [
    "def bin_file (filename1, filename2):\n",
    "    with open(filename1, \"rb\") as f:\n",
    "        content = f.read()\n",
    "    with open(filename2, \"wb\") as ff:\n",
    "        ff.write(content)\n",
    "\n",
    "bin_file('image.bin', 'copy_image.bin')"
   ]
  },
  {
   "cell_type": "markdown",
   "id": "fe0bb481",
   "metadata": {},
   "source": [
    "\n",
    "### Assignment 13: CSV File Operations\n",
    "\n",
    "Write a function that reads a CSV file named `data.csv` and prints its contents as a list of dictionaries."
   ]
  },
  {
   "cell_type": "code",
   "execution_count": 59,
   "id": "4d8e044c",
   "metadata": {},
   "outputs": [
    {
     "data": {
      "text/plain": [
       "[{'Title': 'Fruits', 'Description': 'Apple'},\n",
       " {'Title': 'Animals', 'Description': 'Donkey'},\n",
       " {'Title': 'Fruits', 'Description': 'Banana'},\n",
       " {'Title': 'Animals', 'Description': 'Cat'},\n",
       " {'Title': 'Fruits', 'Description': 'Orange'},\n",
       " {'Title': 'Animals', 'Description': 'Elephant'}]"
      ]
     },
     "execution_count": 59,
     "metadata": {},
     "output_type": "execute_result"
    }
   ],
   "source": [
    "import csv\n",
    "def csv_file (filename):\n",
    "    with open (filename, \"r\") as file:\n",
    "        reader  = csv.DictReader(file)\n",
    "        lst_of_dic = list(reader)\n",
    "    return lst_of_dic\n",
    "\n",
    "csv_file('data.csv')"
   ]
  },
  {
   "cell_type": "markdown",
   "id": "6402da38",
   "metadata": {},
   "source": [
    "\n",
    "### Assignment 14: JSON File Operations\n",
    "\n",
    "Write a function that reads a JSON file named `data.json` and prints its contents as a Python dictionary."
   ]
  },
  {
   "cell_type": "code",
   "execution_count": 65,
   "id": "d04b3daf",
   "metadata": {},
   "outputs": [
    {
     "name": "stdout",
     "output_type": "stream",
     "text": [
      "{'Fruits': ['Apple', 'Banana', 'Orange'], 'Animals': ['Donkey', 'Cat', 'Elephant'], 'Country': 'Nigeria', 'Year': 2025, 'IsSunny': True}\n"
     ]
    }
   ],
   "source": [
    "import json as js\n",
    "\n",
    "def json_file (filename):\n",
    "    with open(filename, \"r\") as file:\n",
    "        json_value = js.load(file)\n",
    "        print(json_value)\n",
    "\n",
    "json_file('data.json')"
   ]
  },
  {
   "cell_type": "markdown",
   "id": "fa1cc6d2",
   "metadata": {},
   "source": [
    "### Assignment 15: File Permission Handling\n",
    "\n",
    "Write a function that attempts to read a file named `protected.txt` and handles any permission errors gracefully by printing an error message."
   ]
  },
  {
   "cell_type": "code",
   "execution_count": 70,
   "id": "9e763ae5",
   "metadata": {},
   "outputs": [
    {
     "data": {
      "text/plain": [
       "0"
      ]
     },
     "execution_count": 70,
     "metadata": {},
     "output_type": "execute_result"
    }
   ],
   "source": [
    "import os\n",
    "# os.system('attrib +h protected.txt')\n",
    "os.system(f'icacls \"protected.txt\" /inheritance:r') "
   ]
  },
  {
   "cell_type": "code",
   "execution_count": 75,
   "metadata": {},
   "outputs": [
    {
     "name": "stdout",
     "output_type": "stream",
     "text": [
      "Permission error: [Errno 13] Permission denied: 'protected.txt'\n"
     ]
    }
   ],
   "source": [
    "def read_protected_file(filename):\n",
    "    try:\n",
    "        with open(filename, 'r') as file:\n",
    "            print(file.read())\n",
    "    except PermissionError as e:\n",
    "        print(f\"Permission error: {e}\")\n",
    "\n",
    "read_protected_file('protected.txt')"
   ]
  }
 ],
 "metadata": {
  "kernelspec": {
   "display_name": ".venv",
   "language": "python",
   "name": "python3"
  },
  "language_info": {
   "codemirror_mode": {
    "name": "ipython",
    "version": 3
   },
   "file_extension": ".py",
   "mimetype": "text/x-python",
   "name": "python",
   "nbconvert_exporter": "python",
   "pygments_lexer": "ipython3",
   "version": "3.13.5"
  }
 },
 "nbformat": 4,
 "nbformat_minor": 5
}
