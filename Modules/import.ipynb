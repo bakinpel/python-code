{
 "cells": [
  {
   "cell_type": "code",
   "execution_count": 7,
   "id": "fd4e5147",
   "metadata": {},
   "outputs": [
    {
     "data": {
      "text/plain": [
       "<module 'package.maths' from 'c:\\\\Users\\\\bless\\\\Desktop\\\\Projects\\\\python_codes\\\\Modules\\\\package\\\\maths.py'>"
      ]
     },
     "execution_count": 7,
     "metadata": {},
     "output_type": "execute_result"
    }
   ],
   "source": [
    "import importlib\n",
    "import package.maths\n",
    "importlib.reload(package.maths)"
   ]
  },
  {
   "cell_type": "code",
   "execution_count": 6,
   "id": "b5e798b1",
   "metadata": {},
   "outputs": [
    {
     "ename": "ImportError",
     "evalue": "cannot import name 'multiply' from 'package.maths' (c:\\Users\\bless\\Desktop\\Projects\\python_codes\\Modules\\package\\maths.py)",
     "output_type": "error",
     "traceback": [
      "\u001b[31m---------------------------------------------------------------------------\u001b[39m",
      "\u001b[31mImportError\u001b[39m                               Traceback (most recent call last)",
      "\u001b[36mCell\u001b[39m\u001b[36m \u001b[39m\u001b[32mIn[6]\u001b[39m\u001b[32m, line 1\u001b[39m\n\u001b[32m----> \u001b[39m\u001b[32m1\u001b[39m \u001b[38;5;28;01mfrom\u001b[39;00m\u001b[38;5;250m \u001b[39m\u001b[34;01mpackage\u001b[39;00m\u001b[34;01m.\u001b[39;00m\u001b[34;01mmaths\u001b[39;00m\u001b[38;5;250m \u001b[39m\u001b[38;5;28;01mimport\u001b[39;00m addition, subtraction,multiply\n\u001b[32m      2\u001b[39m multiply(\u001b[32m2\u001b[39m, \u001b[32m3\u001b[39m)\n",
      "\u001b[31mImportError\u001b[39m: cannot import name 'multiply' from 'package.maths' (c:\\Users\\bless\\Desktop\\Projects\\python_codes\\Modules\\package\\maths.py)"
     ]
    }
   ],
   "source": [
    "from package.maths import addition, subtraction,multiply\n",
    "multiply(2, 3)"
   ]
  },
  {
   "cell_type": "code",
   "execution_count": null,
   "id": "c150ca6c",
   "metadata": {},
   "outputs": [],
   "source": []
  }
 ],
 "metadata": {
  "kernelspec": {
   "display_name": ".venv",
   "language": "python",
   "name": "python3"
  },
  "language_info": {
   "codemirror_mode": {
    "name": "ipython",
    "version": 3
   },
   "file_extension": ".py",
   "mimetype": "text/x-python",
   "name": "python",
   "nbconvert_exporter": "python",
   "pygments_lexer": "ipython3",
   "version": "3.13.5"
  }
 },
 "nbformat": 4,
 "nbformat_minor": 5
}
