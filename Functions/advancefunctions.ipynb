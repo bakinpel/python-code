{
 "cells": [
  {
   "cell_type": "markdown",
   "metadata": {},
   "source": [
    "# Module 4: Advanced Functions Assignments\n",
    "## Lesson 4.1: Defining Functions\n",
    "### Assignment 1: Fibonacci Sequence with Memoization\n",
    "\n",
    "Define a recursive function to calculate the nth Fibonacci number using memoization. Test the function with different inputs."
   ]
  },
  {
   "cell_type": "code",
   "execution_count": 10,
   "id": "edb49ea9",
   "metadata": {},
   "outputs": [
    {
     "name": "stdout",
     "output_type": "stream",
     "text": [
      "here 2 1\n",
      "here 3 2\n",
      "here 4 3\n",
      "here 5 5\n",
      "here 6 8\n",
      "here 7 13\n",
      "here 8 21\n",
      "55\n"
     ]
    }
   ],
   "source": [
    "def fibonacci_memo (num, memo={}):\n",
    "    if num in memo: #if there's already this value in the dic, don't go through the next lines of code\n",
    "        print('here', num, memo[num])\n",
    "        return memo[num] \n",
    "    if num <= 1:\n",
    "       return num\n",
    "    else:\n",
    "        memo[num] = fibonacci_memo(num-1, memo) + fibonacci_memo(num-2, memo)\n",
    "        return memo[num] \n",
    "\n",
    "print(fibonacci_memo(10))"
   ]
  },
  {
   "cell_type": "markdown",
   "id": "1589f8c6",
   "metadata": {},
   "source": [
    "### Assignment 2: Function with Nested Default Arguments\n",
    "\n",
    "Define a function that takes two arguments, a and b, where b is a dictionary with a default value of an empty dictionary. The function should add a new key-value pair to the dictionary and return it. Test the function with different inputs.\n",
    "\n"
   ]
  },
  {
   "cell_type": "code",
   "execution_count": 12,
   "id": "9b4bfa5b",
   "metadata": {},
   "outputs": [
    {
     "name": "stdout",
     "output_type": "stream",
     "text": [
      "{'name': 'name'}\n"
     ]
    }
   ],
   "source": [
    "def func2 (a,b):\n",
    "    b[a] = a\n",
    "    return b\n",
    "print(func2(\"name\", {}))"
   ]
  },
  {
   "cell_type": "markdown",
   "id": "f7e4d86b",
   "metadata": {},
   "source": [
    "### Assignment 3: Function with Variable Keyword Arguments\n",
    "\n",
    "Define a function that takes a variable number of keyword arguments and returns a dictionary containing only those key-value pairs where the value is an integer. Test the function with different inputs.\n",
    "\n",
    "\n"
   ]
  },
  {
   "cell_type": "code",
   "execution_count": 13,
   "metadata": {},
   "outputs": [
    {
     "name": "stdout",
     "output_type": "stream",
     "text": [
      "{'a': 1, 'age': 21}\n"
     ]
    }
   ],
   "source": [
    "def func1 (**kwargs):\n",
    "    new_dic = {x:y for x, y in kwargs.items() if type(y)==int}\n",
    "    return new_dic\n",
    "print(func1(a=1, name=\"Toba\", age=21))"
   ]
  },
  {
   "cell_type": "markdown",
   "id": "87626a86",
   "metadata": {},
   "source": [
    "### Assignment 4: Function with Callback\n",
    "\n",
    "Define a function that takes another function as a callback and a list of integers. The function should apply the callback to each integer in the list and return a new list with the results. Test with different callback functions."
   ]
  },
  {
   "cell_type": "code",
   "execution_count": 15,
   "id": "34b73e03",
   "metadata": {},
   "outputs": [
    {
     "name": "stdout",
     "output_type": "stream",
     "text": [
      "[1, 4, 9, 16, 25, 36, 49]\n"
     ]
    }
   ],
   "source": [
    "def fun3(fn, *args):\n",
    "    result = list(map(fn, args))\n",
    "    return result\n",
    "\n",
    "print(fun3(lambda x:x**2, 1,2,3,4,5,6,7))"
   ]
  },
  {
   "cell_type": "markdown",
   "id": "8e41e367",
   "metadata": {},
   "source": [
    "### Assignment 5: Function that Returns a Function\n",
    "\n",
    "Define a function that returns another function. The returned function should take an integer and return its square. Test the returned function with different inputs."
   ]
  },
  {
   "cell_type": "code",
   "execution_count": 16,
   "id": "b24345be",
   "metadata": {},
   "outputs": [
    {
     "name": "stdout",
     "output_type": "stream",
     "text": [
      "25\n"
     ]
    }
   ],
   "source": [
    "def func4(fn, num):\n",
    "    return fn(num)\n",
    "\n",
    "print(func4(lambda x:x**2, 5))"
   ]
  },
  {
   "cell_type": "markdown",
   "id": "69c413b9",
   "metadata": {},
   "source": [
    "### Assignment 6: Function with Decorators\n",
    "\n",
    "Define a function that calculates the time taken to execute another function. Apply this decorator to a function that performs a complex calculation. Test the decorated function with different inputs."
   ]
  },
  {
   "cell_type": "code",
   "execution_count": 27,
   "id": "d80a0ff5",
   "metadata": {},
   "outputs": [
    {
     "name": "stdout",
     "output_type": "stream",
     "text": [
      "Time used: 7\n"
     ]
    },
    {
     "data": {
      "text/plain": [
       "333328333350000"
      ]
     },
     "execution_count": 27,
     "metadata": {},
     "output_type": "execute_result"
    }
   ],
   "source": [
    "from time import time\n",
    "def decorator(fn):\n",
    "\n",
    "    def wrapper(*args, **kwargs): #wrapper in this case wraps the function likr 'wrapa(Nigerian)'\n",
    "        start_time = int(time() * 1000)\n",
    "        result = fn(*args, **kwargs)\n",
    "        end_time = int(time() * 1000)\n",
    "        print(\"Time used:\", end_time - start_time)\n",
    "        return result\n",
    "    return wrapper\n",
    "\n",
    "@decorator\n",
    "\n",
    "def complex_calculation(n):\n",
    "    return sum(x**2 for x in range(n))\n",
    "\n",
    "complex_calculation(100000)"
   ]
  },
  {
   "cell_type": "markdown",
   "id": "1ed77a8f",
   "metadata": {},
   "source": [
    "### Assignment 7: Higher-Order Function for Filtering and Mapping\n",
    "\n",
    "Define a higher-order function that takes two functions, a filter function and a map function, along with a list of integers. The higher-order function should first filter the integers using the filter function and then apply the map function to the filtered integers. Test with different filter and map functions."
   ]
  },
  {
   "cell_type": "code",
   "execution_count": 42,
   "id": "d80f143c",
   "metadata": {},
   "outputs": [
    {
     "name": "stdout",
     "output_type": "stream",
     "text": [
      "[4, 16, 36, 64, 100]\n"
     ]
    }
   ],
   "source": [
    "def func5(mapfn, filterfn, *args):\n",
    "    filtered_list = filterfn(args)\n",
    "    new_list = mapfn(filtered_list)\n",
    "    return new_list\n",
    "\n",
    "mapfn =lambda nums: list(map(lambda x: x**2, nums))\n",
    "filt  =lambda nums: list(filter(lambda x: x%2 == 0, nums))\n",
    "\n",
    "print(func5(mapfn, filt, 1,2,3,4,5,6,7,8,9,10))"
   ]
  },
  {
   "cell_type": "markdown",
   "id": "c94f380b",
   "metadata": {},
   "source": [
    "### Assignment 8: Function Composition\n",
    "\n",
    "Define a function that composes two functions, f and g, such that the result is f(g(x)). Test with different functions f and g."
   ]
  },
  {
   "cell_type": "code",
   "execution_count": 7,
   "id": "5cd1dbd6",
   "metadata": {},
   "outputs": [
    {
     "name": "stdout",
     "output_type": "stream",
     "text": [
      "50\n",
      "20\n"
     ]
    }
   ],
   "source": [
    "g = lambda x : x * 5\n",
    "f = lambda x : x*2\n",
    "\n",
    "def compose (f, g):\n",
    "    return lambda x : f(g(x))\n",
    "\n",
    "h = compose(g, f)\n",
    "\n",
    "print(h(5))\n",
    "\n",
    "print(f(g(2)))"
   ]
  },
  {
   "cell_type": "markdown",
   "id": "a4c771a6",
   "metadata": {},
   "source": [
    "### Assignment 9: Partial Function Application\n",
    "\n",
    "Use the functools.partial function to create a new function that multiplies its input by 2. Test the new function with different inputs."
   ]
  },
  {
   "cell_type": "code",
   "execution_count": 8,
   "id": "a49a0ef2",
   "metadata": {},
   "outputs": [
    {
     "name": "stdout",
     "output_type": "stream",
     "text": [
      "10\n"
     ]
    }
   ],
   "source": [
    "from functools import partial\n",
    "\n",
    "def multiply(a, b):\n",
    "    return a * b\n",
    "\n",
    "double = partial(multiply, 2)  # Fix a = 2\n",
    "\n",
    "#nums = [1, 2, 3, 4]\n",
    "#result = list(map(double, nums))  # Multiplies each element by 2\n",
    "result = double(5)\n",
    "print(result)  # [2, 4, 6, 8]\n"
   ]
  },
  {
   "cell_type": "markdown",
   "id": "af8fb544",
   "metadata": {},
   "source": [
    "### Assignment 10: Function with Error Handling\n",
    "\n",
    "Define a function that takes a list of integers and returns their average. The function should handle any errors that occur (e.g., empty list) and return None in such cases. Test with different inputs."
   ]
  },
  {
   "cell_type": "code",
   "execution_count": 18,
   "id": "503c1fd7",
   "metadata": {},
   "outputs": [
    {
     "name": "stdout",
     "output_type": "stream",
     "text": [
      "None\n",
      "None\n"
     ]
    }
   ],
   "source": [
    "def avg (a):\n",
    "    if len(a)==0:\n",
    "        return None\n",
    "    return sum(a)/len(a)\n",
    "\n",
    "print(avg([]))\n",
    "\n",
    "#Using decorator\n",
    "def validate_list(fn):\n",
    "    def wrapper(*args, **kwargs):\n",
    "        if len(args[0])==0:\n",
    "            return None\n",
    "        result = fn(*args, **kwargs)\n",
    "        return result\n",
    "    return wrapper\n",
    "\n",
    "@validate_list\n",
    "def avg2 (a):\n",
    "    return sum(a)/len(a)\n",
    "\n",
    "print(avg2([]))"
   ]
  },
  {
   "cell_type": "markdown",
   "id": "bc33560c",
   "metadata": {},
   "source": [
    "### Assignment 11: Function with Generators\n",
    "\n",
    "Define a function that generates an infinite sequence of Fibonacci numbers. Test by printing the first 10 numbers in the sequence."
   ]
  },
  {
   "cell_type": "code",
   "execution_count": 24,
   "id": "f8f3ba29",
   "metadata": {},
   "outputs": [
    {
     "name": "stdout",
     "output_type": "stream",
     "text": [
      "1 1 2 3 5 8 13 21 34 55 "
     ]
    }
   ],
   "source": [
    "a=1\n",
    "b = 1\n",
    "num = int(input(\"Enter an integer:\"))\n",
    "count = 0\n",
    "print(a, b, end=\" \")\n",
    "while count < num-2:\n",
    "    next = a + b\n",
    "    a=b\n",
    "    b=next   \n",
    "    print(next, end=\" \")\n",
    "    count = count + 1"
   ]
  },
  {
   "cell_type": "markdown",
   "id": "b0739426",
   "metadata": {},
   "source": [
    "### Assignment 12: Currying\n",
    "\n",
    "Define a curried function that takes three arguments, one at a time, and returns their product. Test the function by providing arguments one at a time."
   ]
  },
  {
   "cell_type": "code",
   "execution_count": 25,
   "id": "f6312134",
   "metadata": {},
   "outputs": [
    {
     "name": "stdout",
     "output_type": "stream",
     "text": [
      "24\n"
     ]
    }
   ],
   "source": [
    "def curry_fn (x):\n",
    "    def inner1 (y):\n",
    "        def inner2 (z):\n",
    "            return x*y*z\n",
    "        return inner2\n",
    "    return inner1\n",
    "\n",
    "print(curry_fn(2)(3)(4))"
   ]
  },
  {
   "cell_type": "markdown",
   "id": "3f03ef08",
   "metadata": {},
   "source": [
    "### Assignment 13: Function with Context Manager\n",
    "\n",
    "Define a function that uses a context manager to write a list of integers to a file. The function should handle any errors that occur during file operations. Test with different lists."
   ]
  },
  {
   "cell_type": "code",
   "execution_count": 33,
   "id": "0cb8ae16",
   "metadata": {},
   "outputs": [],
   "source": [
    "def write_to_file(nums):\n",
    "    try:\n",
    "        with open('check.txt', 'w') as w:\n",
    "            for num in nums:\n",
    "                w.write(f\"{num}\\n\")\n",
    "    except IOError as e:\n",
    "        print(f\"An error occurred: {e}\")\n",
    "\n",
    "write_to_file(range(1,11))"
   ]
  },
  {
   "cell_type": "markdown",
   "id": "049b7cc6",
   "metadata": {},
   "source": [
    "### Assignment 14: Function with Multiple Return Types\n",
    "\n",
    "Define a function that takes a list of mixed data types (integers, strings, and floats) and returns three lists: one containing all the integers, one containing all the strings, and one containing all the floats. Test with different inputs.\n"
   ]
  },
  {
   "cell_type": "code",
   "execution_count": 27,
   "id": "83cb894d",
   "metadata": {},
   "outputs": [
    {
     "name": "stdout",
     "output_type": "stream",
     "text": [
      "([34, 10], [1.577, 4.5], ['Toba', 'Blessing'])\n"
     ]
    }
   ],
   "source": [
    "def sort_type(a):\n",
    "    list_int= [i for i in a if type(i)==int]\n",
    "    list_str = [i for i in a if type(i)==str]\n",
    "    list_float = [i for i in a if type(i)==float]\n",
    "    return list_int, list_float, list_str\n",
    "\n",
    "print(sort_type([\"Toba\", \"Blessing\", 1.577, 34, 10, 4.5]))"
   ]
  },
  {
   "cell_type": "markdown",
   "id": "1bd81225",
   "metadata": {},
   "source": [
    "### Assignment 15: Function with State\n",
    "Define a function that maintains state between calls using a mutable default argument. The function should keep track of how many times it has been called. Test by calling the function multiple times."
   ]
  },
  {
   "cell_type": "code",
   "execution_count": 30,
   "id": "a667acd3",
   "metadata": {},
   "outputs": [
    {
     "name": "stdout",
     "output_type": "stream",
     "text": [
      "1\n",
      "2\n",
      "3\n"
     ]
    }
   ],
   "source": [
    "def call_counter(counter={'count': 0}):\n",
    "    counter['count'] += 1\n",
    "    return counter['count']\n",
    "\n",
    "# Test\n",
    "print(call_counter())  # 1\n",
    "print(call_counter())  # 2\n",
    "print(call_counter())  # 3"
   ]
  },
  {
   "cell_type": "code",
   "execution_count": null,
   "id": "31a888b4",
   "metadata": {},
   "outputs": [],
   "source": []
  }
 ],
 "metadata": {
  "kernelspec": {
   "display_name": ".venv",
   "language": "python",
   "name": "python3"
  },
  "language_info": {
   "codemirror_mode": {
    "name": "ipython",
    "version": 3
   },
   "file_extension": ".py",
   "mimetype": "text/x-python",
   "name": "python",
   "nbconvert_exporter": "python",
   "pygments_lexer": "ipython3",
   "version": "3.13.5"
  }
 },
 "nbformat": 4,
 "nbformat_minor": 5
}
